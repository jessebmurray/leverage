{
 "cells": [
  {
   "cell_type": "markdown",
   "metadata": {},
   "source": [
    "# Leverage\n",
    "\n",
    "\n",
    "### Stupidity or genius?\n",
    "\n",
    "Updated 2020-August-28.\n",
    "\n",
    "\n",
    "* This notebook looks at what the last 92 years of daily S&P 500 data has to say about the now well-known intra-day leverage.  \n",
    "\n",
    "* Automatic reinvestment of dividends is assumed. "
   ]
  },
  {
   "cell_type": "code",
   "execution_count": 1,
   "metadata": {},
   "outputs": [],
   "source": [
    "import numpy as np\n",
    "import pandas as pd\n",
    "import matplotlib.pyplot as plt\n",
    "import seaborn as sns"
   ]
  },
  {
   "cell_type": "markdown",
   "metadata": {},
   "source": [
    "### Constants"
   ]
  },
  {
   "cell_type": "code",
   "execution_count": 2,
   "metadata": {},
   "outputs": [],
   "source": [
    "# Number of trading days in a year\n",
    "N_YEAR = 252\n",
    "\n",
    "# 2x dividends as a fraction of S&P 500 dividends, \n",
    "# assumed from the current ratio of SSO to SPY dividends\n",
    "DIV2 = 0.18\n",
    "\n",
    "# Explored leverage space (0% leverage to 100% leverage)\n",
    "lev = np.linspace(0, 1, 41)"
   ]
  },
  {
   "cell_type": "markdown",
   "metadata": {},
   "source": [
    "### Load Data"
   ]
  },
  {
   "cell_type": "code",
   "execution_count": 3,
   "metadata": {},
   "outputs": [],
   "source": [
    "# S&P 500 daily - from Yahoo Finance\n",
    "df = pd.read_csv('../data/^GSPC.csv', index_col=0, parse_dates=[0])"
   ]
  },
  {
   "cell_type": "code",
   "execution_count": 4,
   "metadata": {},
   "outputs": [],
   "source": [
    "# S&P 500 annual average dividend - from Quandl\n",
    "dfi = pd.read_csv('../data/MULTPL-SP500_DIV_YIELD_YEAR-annual.csv', \n",
    "                  index_col=0, parse_dates=[0])\n",
    "\n",
    "dividend_year = dict(zip(dfi.index.year, dfi.Value.to_numpy()))\n",
    "df['DividendYear'] = df.index.map(lambda x: dividend_year[x.year]) / 100"
   ]
  },
  {
   "cell_type": "code",
   "execution_count": 5,
   "metadata": {},
   "outputs": [
    {
     "data": {
      "text/html": [
       "<div>\n",
       "<style scoped>\n",
       "    .dataframe tbody tr th:only-of-type {\n",
       "        vertical-align: middle;\n",
       "    }\n",
       "\n",
       "    .dataframe tbody tr th {\n",
       "        vertical-align: top;\n",
       "    }\n",
       "\n",
       "    .dataframe thead th {\n",
       "        text-align: right;\n",
       "    }\n",
       "</style>\n",
       "<table border=\"1\" class=\"dataframe\">\n",
       "  <thead>\n",
       "    <tr style=\"text-align: right;\">\n",
       "      <th></th>\n",
       "      <th>Open</th>\n",
       "      <th>High</th>\n",
       "      <th>Low</th>\n",
       "      <th>Close</th>\n",
       "      <th>Adj Close</th>\n",
       "      <th>Volume</th>\n",
       "      <th>DividendYear</th>\n",
       "    </tr>\n",
       "    <tr>\n",
       "      <th>Date</th>\n",
       "      <th></th>\n",
       "      <th></th>\n",
       "      <th></th>\n",
       "      <th></th>\n",
       "      <th></th>\n",
       "      <th></th>\n",
       "      <th></th>\n",
       "    </tr>\n",
       "  </thead>\n",
       "  <tbody>\n",
       "    <tr>\n",
       "      <th>1927-12-30</th>\n",
       "      <td>17.660000</td>\n",
       "      <td>17.660000</td>\n",
       "      <td>17.660000</td>\n",
       "      <td>17.660000</td>\n",
       "      <td>17.660000</td>\n",
       "      <td>0</td>\n",
       "      <td>0.0441</td>\n",
       "    </tr>\n",
       "    <tr>\n",
       "      <th>1928-01-03</th>\n",
       "      <td>17.760000</td>\n",
       "      <td>17.760000</td>\n",
       "      <td>17.760000</td>\n",
       "      <td>17.760000</td>\n",
       "      <td>17.760000</td>\n",
       "      <td>0</td>\n",
       "      <td>0.0367</td>\n",
       "    </tr>\n",
       "    <tr>\n",
       "      <th>1928-01-04</th>\n",
       "      <td>17.719999</td>\n",
       "      <td>17.719999</td>\n",
       "      <td>17.719999</td>\n",
       "      <td>17.719999</td>\n",
       "      <td>17.719999</td>\n",
       "      <td>0</td>\n",
       "      <td>0.0367</td>\n",
       "    </tr>\n",
       "    <tr>\n",
       "      <th>1928-01-05</th>\n",
       "      <td>17.549999</td>\n",
       "      <td>17.549999</td>\n",
       "      <td>17.549999</td>\n",
       "      <td>17.549999</td>\n",
       "      <td>17.549999</td>\n",
       "      <td>0</td>\n",
       "      <td>0.0367</td>\n",
       "    </tr>\n",
       "    <tr>\n",
       "      <th>1928-01-06</th>\n",
       "      <td>17.660000</td>\n",
       "      <td>17.660000</td>\n",
       "      <td>17.660000</td>\n",
       "      <td>17.660000</td>\n",
       "      <td>17.660000</td>\n",
       "      <td>0</td>\n",
       "      <td>0.0367</td>\n",
       "    </tr>\n",
       "    <tr>\n",
       "      <th>...</th>\n",
       "      <td>...</td>\n",
       "      <td>...</td>\n",
       "      <td>...</td>\n",
       "      <td>...</td>\n",
       "      <td>...</td>\n",
       "      <td>...</td>\n",
       "      <td>...</td>\n",
       "    </tr>\n",
       "    <tr>\n",
       "      <th>2020-08-24</th>\n",
       "      <td>3418.090088</td>\n",
       "      <td>3432.090088</td>\n",
       "      <td>3413.129883</td>\n",
       "      <td>3431.280029</td>\n",
       "      <td>3431.280029</td>\n",
       "      <td>3728690000</td>\n",
       "      <td>0.0182</td>\n",
       "    </tr>\n",
       "    <tr>\n",
       "      <th>2020-08-25</th>\n",
       "      <td>3435.949951</td>\n",
       "      <td>3444.209961</td>\n",
       "      <td>3425.840088</td>\n",
       "      <td>3443.620117</td>\n",
       "      <td>3443.620117</td>\n",
       "      <td>3619300000</td>\n",
       "      <td>0.0182</td>\n",
       "    </tr>\n",
       "    <tr>\n",
       "      <th>2020-08-26</th>\n",
       "      <td>3449.969971</td>\n",
       "      <td>3481.070068</td>\n",
       "      <td>3444.149902</td>\n",
       "      <td>3478.729980</td>\n",
       "      <td>3478.729980</td>\n",
       "      <td>3754360000</td>\n",
       "      <td>0.0182</td>\n",
       "    </tr>\n",
       "    <tr>\n",
       "      <th>2020-08-27</th>\n",
       "      <td>3485.139893</td>\n",
       "      <td>3501.379883</td>\n",
       "      <td>3468.350098</td>\n",
       "      <td>3484.550049</td>\n",
       "      <td>3484.550049</td>\n",
       "      <td>3929560000</td>\n",
       "      <td>0.0182</td>\n",
       "    </tr>\n",
       "    <tr>\n",
       "      <th>2020-08-28</th>\n",
       "      <td>3494.689941</td>\n",
       "      <td>3509.229980</td>\n",
       "      <td>3484.320068</td>\n",
       "      <td>3508.010010</td>\n",
       "      <td>3508.010010</td>\n",
       "      <td>3855880000</td>\n",
       "      <td>0.0182</td>\n",
       "    </tr>\n",
       "  </tbody>\n",
       "</table>\n",
       "<p>23276 rows × 7 columns</p>\n",
       "</div>"
      ],
      "text/plain": [
       "                   Open         High          Low        Close    Adj Close  \\\n",
       "Date                                                                          \n",
       "1927-12-30    17.660000    17.660000    17.660000    17.660000    17.660000   \n",
       "1928-01-03    17.760000    17.760000    17.760000    17.760000    17.760000   \n",
       "1928-01-04    17.719999    17.719999    17.719999    17.719999    17.719999   \n",
       "1928-01-05    17.549999    17.549999    17.549999    17.549999    17.549999   \n",
       "1928-01-06    17.660000    17.660000    17.660000    17.660000    17.660000   \n",
       "...                 ...          ...          ...          ...          ...   \n",
       "2020-08-24  3418.090088  3432.090088  3413.129883  3431.280029  3431.280029   \n",
       "2020-08-25  3435.949951  3444.209961  3425.840088  3443.620117  3443.620117   \n",
       "2020-08-26  3449.969971  3481.070068  3444.149902  3478.729980  3478.729980   \n",
       "2020-08-27  3485.139893  3501.379883  3468.350098  3484.550049  3484.550049   \n",
       "2020-08-28  3494.689941  3509.229980  3484.320068  3508.010010  3508.010010   \n",
       "\n",
       "                Volume  DividendYear  \n",
       "Date                                  \n",
       "1927-12-30           0        0.0441  \n",
       "1928-01-03           0        0.0367  \n",
       "1928-01-04           0        0.0367  \n",
       "1928-01-05           0        0.0367  \n",
       "1928-01-06           0        0.0367  \n",
       "...                ...           ...  \n",
       "2020-08-24  3728690000        0.0182  \n",
       "2020-08-25  3619300000        0.0182  \n",
       "2020-08-26  3754360000        0.0182  \n",
       "2020-08-27  3929560000        0.0182  \n",
       "2020-08-28  3855880000        0.0182  \n",
       "\n",
       "[23276 rows x 7 columns]"
      ]
     },
     "execution_count": 5,
     "metadata": {},
     "output_type": "execute_result"
    }
   ],
   "source": [
    "df"
   ]
  },
  {
   "cell_type": "markdown",
   "metadata": {},
   "source": [
    "### Create Daily Leverage"
   ]
  },
  {
   "cell_type": "code",
   "execution_count": 6,
   "metadata": {},
   "outputs": [],
   "source": [
    "dl = (df.Close / df.Close.shift()).iloc[1:]"
   ]
  },
  {
   "cell_type": "code",
   "execution_count": 7,
   "metadata": {},
   "outputs": [],
   "source": [
    "div = df.DividendYear.iloc[1:]"
   ]
  },
  {
   "cell_type": "markdown",
   "metadata": {},
   "source": [
    "Each entry of `dl` is the end of day multiple of the previous trading day's closing price, such that 1.05 would indicate a 5% increase. "
   ]
  },
  {
   "cell_type": "code",
   "execution_count": 8,
   "metadata": {},
   "outputs": [
    {
     "data": {
      "text/plain": [
       "252    31\n",
       "253    21\n",
       "251    14\n",
       "250    14\n",
       "249     5\n",
       "254     3\n",
       "248     1\n",
       "246     1\n",
       "242     1\n",
       "226     1\n",
       "167     1\n",
       "Name: Close, dtype: int64"
      ]
     },
     "execution_count": 8,
     "metadata": {},
     "output_type": "execute_result"
    }
   ],
   "source": [
    "# How many trading days in a year, i.e., how long to rebalance? \n",
    "# We will settle on the standard 252 trading days\n",
    "dl.groupby(dl.index.year).count().value_counts()"
   ]
  },
  {
   "cell_type": "code",
   "execution_count": 9,
   "metadata": {},
   "outputs": [],
   "source": [
    "# Long-term accuracy is good, as expected\n",
    "assert np.round(np.product(dl), 5) == np.round(df.Close[-1] / df.Close[0], 5)"
   ]
  },
  {
   "cell_type": "code",
   "execution_count": 10,
   "metadata": {},
   "outputs": [],
   "source": [
    "dl2 = 2*(dl-1) + 1"
   ]
  },
  {
   "cell_type": "markdown",
   "metadata": {},
   "source": [
    "## All n-Year periods since 1927\n",
    "\n",
    "We assume n = 10 and annual (252 trading days) rebalancing of leverage percentages. "
   ]
  },
  {
   "cell_type": "markdown",
   "metadata": {},
   "source": [
    "#### Constants"
   ]
  },
  {
   "cell_type": "code",
   "execution_count": 11,
   "metadata": {},
   "outputs": [],
   "source": [
    "num_years = 10\n",
    "n_period = num_years * N_YEAR\n",
    "len_chunk = n_period\n",
    "len_sep = 1\n",
    "\n",
    "n_split = N_YEAR\n",
    "rebalance_idxs = np.arange(n_split, n_period, n_split)"
   ]
  },
  {
   "cell_type": "markdown",
   "metadata": {},
   "source": [
    "#### Get the index architecture"
   ]
  },
  {
   "cell_type": "code",
   "execution_count": 12,
   "metadata": {},
   "outputs": [],
   "source": [
    "assert dl.size == dl2.size"
   ]
  },
  {
   "cell_type": "code",
   "execution_count": null,
   "metadata": {},
   "outputs": [],
   "source": [
    "%%time\n",
    "n_arrays = np.int(np.ceil((dl.size - len_chunk + 1) / len_sep))\n",
    "\n",
    "rows = np.array((np.arange(n_arrays).reshape(n_arrays, -1) + np.tile(\n",
    "                np.zeros(len_chunk), n_arrays).reshape(n_arrays, -1)), dtype=np.intp)\n",
    "columns = np.array(((len_sep*np.arange(0, n_arrays)).reshape(n_arrays, -1) + np.tile(\n",
    "                np.arange(0, len_chunk), n_arrays).reshape(n_arrays, -1)), dtype=np.intp)"
   ]
  },
  {
   "cell_type": "code",
   "execution_count": null,
   "metadata": {},
   "outputs": [],
   "source": [
    "n_arrays"
   ]
  },
  {
   "cell_type": "markdown",
   "metadata": {},
   "source": [
    "#### Get the start dates"
   ]
  },
  {
   "cell_type": "code",
   "execution_count": null,
   "metadata": {},
   "outputs": [],
   "source": [
    "start_dates = dl.index[:n_arrays:len_sep]"
   ]
  },
  {
   "cell_type": "markdown",
   "metadata": {},
   "source": [
    "#### Get the periods"
   ]
  },
  {
   "cell_type": "code",
   "execution_count": null,
   "metadata": {},
   "outputs": [],
   "source": [
    "def get_periods(array):\n",
    "    return np.tile(array, n_arrays).reshape(n_arrays, -1)[rows, columns]"
   ]
  },
  {
   "cell_type": "code",
   "execution_count": null,
   "metadata": {},
   "outputs": [],
   "source": [
    "%%time\n",
    "dlm = get_periods(dl.to_numpy())"
   ]
  },
  {
   "cell_type": "code",
   "execution_count": null,
   "metadata": {},
   "outputs": [],
   "source": [
    "%%time \n",
    "dlm2 = get_periods(dl2.to_numpy())"
   ]
  },
  {
   "cell_type": "markdown",
   "metadata": {},
   "source": [
    "#### Combine with Dividend Data"
   ]
  },
  {
   "cell_type": "code",
   "execution_count": null,
   "metadata": {},
   "outputs": [],
   "source": [
    "%%time\n",
    "divm = get_periods(div.to_numpy())"
   ]
  },
  {
   "cell_type": "code",
   "execution_count": null,
   "metadata": {},
   "outputs": [],
   "source": [
    "print(dlm.shape)\n",
    "assert dlm.shape == dlm2.shape == divm.shape\n",
    "assert dlm.shape[0] == n_arrays"
   ]
  },
  {
   "cell_type": "code",
   "execution_count": null,
   "metadata": {},
   "outputs": [],
   "source": [
    "divmsplit = np.array(np.hsplit(divm, rebalance_idxs)).T\n",
    "\n",
    "divmsplit = np.average(divmsplit, axis=0)\n",
    "\n",
    "divmsplit2 = divmsplit * DIV2"
   ]
  },
  {
   "cell_type": "markdown",
   "metadata": {},
   "source": [
    "#### Get returns from each year"
   ]
  },
  {
   "cell_type": "code",
   "execution_count": null,
   "metadata": {},
   "outputs": [],
   "source": [
    "%%time\n",
    "dlmsplit = np.array(np.hsplit(dlm, rebalance_idxs)).T\n",
    "dlmsplit = np.product(dlmsplit, axis=0)\n",
    "dlmsplit += divmsplit"
   ]
  },
  {
   "cell_type": "code",
   "execution_count": null,
   "metadata": {},
   "outputs": [],
   "source": [
    "%%time\n",
    "dlmsplit2 = np.array(np.hsplit(dlm2, rebalance_idxs)).T\n",
    "dlmsplit2 = np.product(dlmsplit2, axis=0)\n",
    "dlmsplit2 += divmsplit2"
   ]
  },
  {
   "cell_type": "markdown",
   "metadata": {},
   "source": [
    "#### Aggregate the results over the n-years with varying leverage rates"
   ]
  },
  {
   "cell_type": "code",
   "execution_count": null,
   "metadata": {},
   "outputs": [],
   "source": [
    "agg2 = (1-lev).reshape(-1, 1, 1)*dlmsplit + lev.reshape(-1, 1, 1)*dlmsplit2\n",
    "\n",
    "results2 = np.product(agg2.T, axis=0)"
   ]
  },
  {
   "cell_type": "code",
   "execution_count": null,
   "metadata": {},
   "outputs": [],
   "source": [
    "print(results2.shape)"
   ]
  },
  {
   "cell_type": "markdown",
   "metadata": {},
   "source": [
    "#### Get results relative to baseline (S&P 500)"
   ]
  },
  {
   "cell_type": "code",
   "execution_count": null,
   "metadata": {},
   "outputs": [],
   "source": [
    "relative2 = results2 / results2[:,0].reshape(n_arrays, -1)"
   ]
  },
  {
   "cell_type": "markdown",
   "metadata": {},
   "source": [
    "#### Plot many leverage curves"
   ]
  },
  {
   "cell_type": "code",
   "execution_count": null,
   "metadata": {},
   "outputs": [],
   "source": [
    "%%time\n",
    "plt.figure(figsize=(12, 8))\n",
    "for i in range(0, n_arrays, 5):\n",
    "    plt.plot(lev, results2[i], alpha=0.005, color='#1f77b4')\n",
    "    \n",
    "plt.yscale('log')\n",
    "plt.xticks(lev[::4], ['{:.0%}'.format(p) for p in lev[::4]])\n",
    "plt.xlim(0, 1)\n",
    "plt.xlabel('Percent Leveraged')\n",
    "plt.title('Return on Investment for 20% of all {}-Year Periods from Jan 1928 to Aug 2020, with Annual\\n\\\n",
    "Rebalancing of Leverage Rates, and Assumed Reinvestment of Dividends.'.format(num_years))\n",
    "plt.tight_layout();\n",
    "plt.savefig('plots/leverage-2x-10yr-many_lev_curves.png', dpi=300);"
   ]
  },
  {
   "cell_type": "markdown",
   "metadata": {},
   "source": [
    "### Plotting leverage curves by percentile"
   ]
  },
  {
   "cell_type": "code",
   "execution_count": null,
   "metadata": {},
   "outputs": [],
   "source": [
    "quantiles = np.linspace(0, 1, 101, endpoint=True)\n",
    "results2q = np.quantile(results2, quantiles, axis=0)\n",
    "\n",
    "scheme = sns.color_palette('viridis', quantiles.size)"
   ]
  },
  {
   "cell_type": "code",
   "execution_count": null,
   "metadata": {},
   "outputs": [],
   "source": [
    "plt.figure(figsize=(12, 8))\n",
    "for i, quant in enumerate(quantiles):\n",
    "    results2q[i]\n",
    "    color = scheme[i]\n",
    "    label = None\n",
    "    if quant == 0.5:\n",
    "        color = 'r'\n",
    "        label = 'Median'\n",
    "    plt.plot(lev, results2q[i], \n",
    "             color=color, label=label, linewidth=2)\n",
    "    \n",
    "plt.yscale('log')\n",
    "plt.xticks(lev[::4], ['{:.0%}'.format(p) for p in lev[::4]])\n",
    "plt.axhline(y=1, color='k')\n",
    "plt.xlim(0, 0.8)\n",
    "plt.ylim(.08, 20)\n",
    "plt.xlabel('Percent Leveraged')\n",
    "plt.grid(alpha=0.6, which='both')\n",
    "plt.title('Return on Investment for all {}-Year Periods from Jan 1928 to Aug 2020, with Annual\\n\\\n",
    "Rebalancing of Leverage Rates, and Assumed Reinvestment of Dividends.\\n\\\n",
    "Each line represents a percentile (0%, 1%,..., 99%, 100%). Median is in Red.'.format(num_years))\n",
    "plt.tight_layout();\n",
    "plt.savefig('plots/leverage-2x-10yr-percentiles.png', dpi=300);"
   ]
  },
  {
   "cell_type": "code",
   "execution_count": null,
   "metadata": {},
   "outputs": [],
   "source": [
    "relative2q = np.quantile(relative2, quantiles, axis=0"
   ]
  },
  {
   "cell_type": "code",
   "execution_count": null,
   "metadata": {},
   "outputs": [],
   "source": [
    "plt.figure(figsize=(12, 8))\n",
    "for i, quant in enumerate(quantiles):\n",
    "    relative2q[i]\n",
    "    color = scheme[i]\n",
    "    label = None\n",
    "    if quant == 0.5:\n",
    "        color = 'r'\n",
    "        label = 'Median'\n",
    "    plt.plot(lev, relative2q[i], \n",
    "             color=color, label=label, linewidth=2)\n",
    "    \n",
    "plt.yscale('log')\n",
    "plt.xticks(lev[::4], ['{:.0%}'.format(p) for p in lev[::4]])\n",
    "plt.axhline(y=1, color='k')\n",
    "plt.xlim(0, 0.8)\n",
    "plt.ylim(.1, 5)\n",
    "plt.xlabel('Percent Leveraged')\n",
    "plt.grid(alpha=0.6, which='both')\n",
    "plt.title('Relative Return on Investment for all {}-Year Periods from Jan 1928 to Aug 2020, with Annual\\n\\\n",
    "Rebalancing of Leverage Rates, and Assumed Reinvestment of Dividends.\\n\\\n",
    "Each line represents a percentile (0%, 1%,..., 99%, 100%). Median is in Red.'.format(num_years))\n",
    "plt.tight_layout();\n",
    "plt.savefig('plots/leverage-2x-10yr-relative-percentiles.png', dpi=300);"
   ]
  },
  {
   "cell_type": "markdown",
   "metadata": {},
   "source": [
    "#### Limited quantiles"
   ]
  },
  {
   "cell_type": "code",
   "execution_count": null,
   "metadata": {},
   "outputs": [],
   "source": [
    "quantiles2 = np.array([0.05, 0.15, 0.25, 0.4, 0.6, 0.75, 0.85, 0.95])[::-1]\n",
    "scheme2 = sns.color_palette('viridis', quantiles2.size)[::-1]"
   ]
  },
  {
   "cell_type": "code",
   "execution_count": null,
   "metadata": {},
   "outputs": [],
   "source": [
    "fig, ax = plt.subplots(4, 2, figsize=(10, 9))\n",
    "\n",
    "for i, quant in enumerate(quantiles2):\n",
    "    cur_ax = ax.ravel()[i]\n",
    "    q_array = np.quantile(results2, quant, axis=0)\n",
    "    color = scheme2[i]\n",
    "    cur_ax.plot(lev, q_array, \n",
    "             color=color, label='{:.2%}'.format(quant), linewidth=2)\n",
    "    \n",
    "    cur_ax.set_xticks(lev[::4])\n",
    "    cur_ax.set_xticklabels(['{:.0%}'.format(p) for p in lev[::4]])\n",
    "    cur_ax.set_xlim(0, 1)\n",
    "    cur_ax.grid(alpha=0.4)\n",
    "    cur_ax.set_xlabel('Percent Leveraged')\n",
    "    cur_ax.legend()\n",
    "    \n",
    "fig.suptitle('Return on Investment for all {}-Year Periods from Jan 1928 to Aug 2020, with Annual\\n\\\n",
    "Rebalancing of Leverage Rates, and Assumed Reinvestment of Dividends.'.format(num_years))\n",
    "\n",
    "plt.savefig('plots/leverage-2x-10yr-limited_percentiles.png', dpi=300);"
   ]
  },
  {
   "cell_type": "code",
   "execution_count": null,
   "metadata": {},
   "outputs": [],
   "source": [
    "fig, ax = plt.subplots(4, 2, figsize=(10, 9))\n",
    "\n",
    "for i, quant in enumerate(quantiles2):\n",
    "    cur_ax = ax.ravel()[i]\n",
    "    q_array = np.quantile(relative2, quant, axis=0)\n",
    "    color = scheme2[i]\n",
    "    cur_ax.plot(lev, q_array, \n",
    "             color=color, label='{:.2%}'.format(quant), linewidth=2)\n",
    "    \n",
    "    cur_ax.set_xticks(lev[::4])\n",
    "    cur_ax.set_xticklabels(['{:.0%}'.format(p) for p in lev[::4]])\n",
    "    cur_ax.set_xlim(0, 1)\n",
    "    cur_ax.grid(alpha=0.4)\n",
    "    cur_ax.set_xlabel('Percent Leveraged')\n",
    "    cur_ax.legend()\n",
    "    \n",
    "fig.suptitle('Relative Return on Investment for all {}-Year Periods from Jan 1928 to Aug 2020, with Annual\\n\\\n",
    "Rebalancing of Leverage Rates, and Assumed Reinvestment of Dividends.'.format(num_years))\n",
    "\n",
    "plt.savefig('plots/leverage-2x-10yr-relative-limited_percentiles.png', dpi=300);"
   ]
  },
  {
   "cell_type": "code",
   "execution_count": null,
   "metadata": {},
   "outputs": [],
   "source": [
    "plt.figure(figsize=(6.4, 4.8))\n",
    "q = 0.5\n",
    "q_array = np.quantile(results2, q, axis=0)\n",
    "plt.plot(lev, q_array, color='r', linewidth=2)\n",
    "    \n",
    "plt.xticks(lev[::4], ['{:.0%}'.format(p) for p in lev[::4]])\n",
    "plt.xlim(0, 1)\n",
    "\n",
    "plt.xlabel('Percent Leveraged')\n",
    "plt.grid(alpha=0.4)\n",
    "plt.title('Median Return on Investment for all {}-Year Periods\\n\\\n",
    "from Jan 1928 to Aug 2020, with Annual\\n\\\n",
    "Rebalancing of Leverage Rates, \\n\\\n",
    "and Assumed Reinvestment of Dividends.'.format(num_years));\n",
    "plt.tight_layout();\n",
    "plt.savefig('plots/leverage-2x-10yr-median.png', dpi=300);"
   ]
  },
  {
   "cell_type": "code",
   "execution_count": null,
   "metadata": {},
   "outputs": [],
   "source": [
    "plt.figure(figsize=(6.4, 4.8))\n",
    "q = 0.5\n",
    "q_array = np.quantile(relative2, q, axis=0)\n",
    "plt.plot(lev, q_array, color='r', linewidth=2)\n",
    "    \n",
    "plt.xticks(lev[::4], ['{:.0%}'.format(p) for p in lev[::4]])\n",
    "plt.xlim(0, 1)\n",
    "\n",
    "plt.xlabel('Percent Leveraged')\n",
    "plt.grid(alpha=0.4)\n",
    "plt.title('Median Relative Return on Investment for all {}-Year Periods\\n\\\n",
    "from Jan 1928 to Aug 2020, with Annual\\n\\\n",
    "Rebalancing of Leverage Rates, \\n\\\n",
    "and Assumed Reinvestment of Dividends.'.format(num_years));\n",
    "plt.tight_layout();\n",
    "plt.savefig('plots/leverage-2x-relative-10yr-median.png', dpi=300);"
   ]
  },
  {
   "cell_type": "code",
   "execution_count": null,
   "metadata": {},
   "outputs": [],
   "source": [
    "plt.figure(figsize=(6.4, 4.8))\n",
    "plt.scatter(quantiles, lev[np.argmax(results2q, axis=1)])\n",
    "\n",
    "plt.yticks(lev[::4], ['{:.0%}'.format(p) for p in lev[::4]])\n",
    "plt.ylabel('Percent Leveraged')\n",
    "\n",
    "plt.xlim(0.2, 0.55)\n",
    "plt.xlabel('Percentile')\n",
    "\n",
    "plt.grid(alpha=.4)\n",
    "plt.ylim(0, 1)\n",
    "\n",
    "plt.title('Optimal Leverage Rate as a Function of Percentile for all {}-Year Periods\\n\\\n",
    "from Jan 1928 to Aug 2020, with Annual Rebalancing of Leverage Rates, \\n\\\n",
    "and Assumed Reinvestment of Dividends.'.format(num_years))\n",
    "\n",
    "plt.tight_layout();\n",
    "plt.savefig('plots/leverage-2x-10yr-optimal_leverage.png', dpi=300);\n"
   ]
  },
  {
   "cell_type": "markdown",
   "metadata": {},
   "source": [
    "### Compare histograms of 0% and 50% leveraged."
   ]
  },
  {
   "cell_type": "code",
   "execution_count": null,
   "metadata": {},
   "outputs": [],
   "source": [
    "idx50 = 20\n",
    "lev[idx50]"
   ]
  },
  {
   "cell_type": "code",
   "execution_count": null,
   "metadata": {},
   "outputs": [],
   "source": [
    "print(np.quantile(results2[:,0], 0.5), np.quantile(results2[:,idx50], 0.5))"
   ]
  },
  {
   "cell_type": "code",
   "execution_count": null,
   "metadata": {},
   "outputs": [],
   "source": [
    "plt.hist(results2[:,0], bins=40, alpha=0.2, density=True)\n",
    "\n",
    "plt.hist(results2[:,idx50], \n",
    "         bins=40, alpha=0.2, density=True)\n",
    "plt.xlim(0, 20);"
   ]
  },
  {
   "cell_type": "markdown",
   "metadata": {},
   "source": [
    "### What were some of the craziest n-year returns, and when were they?"
   ]
  },
  {
   "cell_type": "markdown",
   "metadata": {},
   "source": [
    "#### Maximum returns"
   ]
  },
  {
   "cell_type": "code",
   "execution_count": null,
   "metadata": {},
   "outputs": [],
   "source": [
    "maximums = np.unique(np.argmax(results2, axis=0))"
   ]
  },
  {
   "cell_type": "code",
   "execution_count": null,
   "metadata": {},
   "outputs": [],
   "source": [
    "# 0% leverage, 100% leverage\n",
    "results2[maximums][:,0], results2[maximums][:,-1]"
   ]
  },
  {
   "cell_type": "code",
   "execution_count": null,
   "metadata": {},
   "outputs": [],
   "source": [
    "start_dates[maximums]"
   ]
  },
  {
   "cell_type": "markdown",
   "metadata": {},
   "source": [
    "#### Minimum returns"
   ]
  },
  {
   "cell_type": "code",
   "execution_count": null,
   "metadata": {},
   "outputs": [],
   "source": [
    "minimums = np.unique(np.argmin(results2, axis=0))"
   ]
  },
  {
   "cell_type": "code",
   "execution_count": null,
   "metadata": {},
   "outputs": [],
   "source": [
    "# 0% leverage, 100% leverage\n",
    "results2[minimums][:,0], results2[minimums][:,-1]"
   ]
  },
  {
   "cell_type": "code",
   "execution_count": null,
   "metadata": {},
   "outputs": [],
   "source": [
    "start_dates[minimums]"
   ]
  },
  {
   "cell_type": "code",
   "execution_count": null,
   "metadata": {},
   "outputs": [],
   "source": []
  },
  {
   "cell_type": "code",
   "execution_count": null,
   "metadata": {},
   "outputs": [],
   "source": []
  },
  {
   "cell_type": "code",
   "execution_count": null,
   "metadata": {},
   "outputs": [],
   "source": []
  },
  {
   "cell_type": "code",
   "execution_count": null,
   "metadata": {},
   "outputs": [],
   "source": []
  },
  {
   "cell_type": "code",
   "execution_count": null,
   "metadata": {},
   "outputs": [],
   "source": []
  },
  {
   "cell_type": "code",
   "execution_count": null,
   "metadata": {},
   "outputs": [],
   "source": []
  },
  {
   "cell_type": "code",
   "execution_count": null,
   "metadata": {},
   "outputs": [],
   "source": []
  },
  {
   "cell_type": "code",
   "execution_count": null,
   "metadata": {},
   "outputs": [],
   "source": []
  },
  {
   "cell_type": "code",
   "execution_count": null,
   "metadata": {},
   "outputs": [],
   "source": []
  },
  {
   "cell_type": "code",
   "execution_count": null,
   "metadata": {},
   "outputs": [],
   "source": []
  },
  {
   "cell_type": "code",
   "execution_count": null,
   "metadata": {},
   "outputs": [],
   "source": []
  }
 ],
 "metadata": {
  "kernelspec": {
   "display_name": "Python 3",
   "language": "python",
   "name": "python3"
  },
  "language_info": {
   "codemirror_mode": {
    "name": "ipython",
    "version": 3
   },
   "file_extension": ".py",
   "mimetype": "text/x-python",
   "name": "python",
   "nbconvert_exporter": "python",
   "pygments_lexer": "ipython3",
   "version": "3.8.3"
  }
 },
 "nbformat": 4,
 "nbformat_minor": 4
}
