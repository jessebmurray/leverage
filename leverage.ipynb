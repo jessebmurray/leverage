{
 "cells": [
  {
   "cell_type": "markdown",
   "metadata": {},
   "source": [
    "# An analysis of the returns from simulated leveraged index funds over all available historical ten-year periods"
   ]
  },
  {
   "cell_type": "markdown",
   "metadata": {},
   "source": [
    "Range of historical data: Dec 12, 1927 - Aug 28, 2020.\n",
    "\n",
    "[GitHub repository](https://github.com/jessebmurray/leverage)."
   ]
  },
  {
   "cell_type": "markdown",
   "metadata": {},
   "source": [
    "## Abstract\n",
    "\n",
    "Leveraged ETFs have been gaining attention as high-risk investment instruments that can potentially provide large multiples of the underlying indices they track. One prominent example is UPRO, which returns 3x the daily return of the S&P 500. That is, if the S&P 500 falls by 1% in a single trading day, UPRO will fall by 3% - and vice versa if the S&P 500 rises in price. \n",
    "\n",
    "This project aims to reveal how leveraged ETFs might be deployed within a long-term equity portfolio by simulating ten-year returns from historical data. The data is S&P 500 daily prices and annual dividend yields going back to 1927. The strategy tested is to invest a certain percentage of the equity portfolio in the 3x leveraged version, with the remaining in the standard, non-leveraged version, assuming reinvestment of dividends and the tax-advantaged strategy of rebalancing the portfolio once a year (returning to the original leverage percentage). I analyze the performance of this strategy with leverage percentages from 0% to 100% across all 20,756 possible ten-year periods since 1927. \n",
    "\n",
    "Leveraging is indeed a substantial risk and should therefore, if used at all, be a function of proximity-to-retirement. However, small amounts of leverage appear to boost equity returns over the long-term.\n",
    "\n"
   ]
  },
  {
   "cell_type": "markdown",
   "metadata": {},
   "source": [
    "## Absolute ten-year returns"
   ]
  },
  {
   "cell_type": "markdown",
   "metadata": {},
   "source": [
    "#### Raw leverage curves\n",
    "\n",
    "In the raw data shown below, each curve represents the returns from increasing leverage percentages for a single ten-year period. In good times, more leverage leads to higher returns. In bad times, more leaverage leads to lower returns, or even substantial losses. \n",
    "\n",
    "![](plots/leverage-10yr-many_lev_curves.png)"
   ]
  },
  {
   "cell_type": "markdown",
   "metadata": {},
   "source": [
    "#### Leverage curves by percentile \n",
    "\n",
    "The leverage curves can be separated into percentiles, where 0%, shown in purple, would be the lowest ten-year return on investment. Likewise, 100%, shown in yellow, would be the highest ten-year return on investment. The median (50%) is shown in red. It is worth noting that the percentiles are calculated separately for each leverage percentage.\n",
    "\n",
    "![](plots/leverage-10yr-percentiles.png)"
   ]
  },
  {
   "cell_type": "markdown",
   "metadata": {},
   "source": [
    "#### Returns by date of investment\n",
    "\n",
    "The great depression (1930s) was highly destructive for leveraging, as was the dot-com bubble (2000). Nevertheless, other recessions appear not to have substantially affected low amounts of leverage, including the recent coronavirus recession. Furthermore, small amounts of leverage substantially boosted returns in the periods of the early-1940s to the early-1960s, and the mid-1970s to the mid-1990s. \n",
    "\n",
    "![](plots/leverage-10yr-returns_by_date.png)"
   ]
  },
  {
   "cell_type": "markdown",
   "metadata": {},
   "source": [
    "#### Leverage curves of selected percentiles\n",
    "\n",
    "We can show the leverage curves for select percentiles and separately, for the median. An interesting feature is that as the performance goes from best to worst, the leverage curve shifts from convex, to concave, then back to convex. As the percentiles decrease: there are initially increasing positive marginal returns, then diminishing positive marginal returns, then increasing negative marginal returns, and lastly diminishing negative marginal returns. \n",
    "\n",
    "![](plots/leverage-10yr-limited_percentiles.png)\n",
    "\n",
    "![](plots/leverage-10yr-median.png)"
   ]
  },
  {
   "cell_type": "markdown",
   "metadata": {},
   "source": [
    "## All of the same plots, relative to baseline\n",
    "\n",
    "The baseline is no leverage, in other words 100% of the portfolio is invested solely in the S&P 500. Here we're just dividing all of the returns by the S&P 500 return so that we can more clearly compare how much better or worse each percent leveraged performs, relative to using no leverage.\n",
    "\n",
    "![](plots/leverage-10yr-relative-percentiles.png)\n",
    "\n",
    "![](plots/leverage-10yr-relative-returns_by_date.png)\n",
    "\n",
    "![](plots/leverage-10yr-relative-limited_percentiles.png)\n",
    "\n",
    "![](plots/leverage-10yr-relative-median.png)"
   ]
  },
  {
   "cell_type": "markdown",
   "metadata": {},
   "source": [
    "## Optimal leverage for each percentile\n",
    "\n",
    "For each percentile of performance (calculated seperately for the leverage percentages), we can see what percent leveraged performs the best. That is, at the 30th percentile of all of the leverage percentages - such that they each would perform better in 70% of ten-year periods - a leverage percentage of about 20% performs best.\n",
    "\n",
    "We can see that the optimal leverage quickly transitions from 0% leverage to 100% leverage as performance improves. However, it is worth noting that in 80% of ten-year periods, some amount of leverage performed better than none.\n",
    "\n",
    "![](plots/leverage-10yr-optimal_leverage.png)"
   ]
  },
  {
   "cell_type": "markdown",
   "metadata": {},
   "source": [
    "## Percentiles based on the performance of the S&P 500 \n",
    "\n",
    "We've been calculating the percentiles individually for each leverage percentage as the performance of leveraged percentages are not always strictly ordered. For example, in a given ten-year periods, a leverage percentage of 50% might perform better than a leverage percentage of 45%, but perhaps worse than a leverage percentage of 55%. \n",
    "\n",
    "We may want to obtain the percentiles of the S&P 500 and then see how different leverage percentages perform under those percentiles. For example, a percentile of 10% would mean that the S&P 500 performs better in 90% of ten-year periods, and worse in 10% of ten-year periods. Then, we can get the absolute or relative performance of each of the different leverage percentages, based on the performance of the S&P 500 in that specific ten-year period. \n",
    "\n",
    "![](plots/leverage-10yr-basis-limited_percentiles.png)\n",
    "\n",
    "![](plots/leverage-10yr-relative-basis-limited_percentiles.png)"
   ]
  }
 ],
 "metadata": {
  "kernelspec": {
   "display_name": "Python 3",
   "language": "python",
   "name": "python3"
  },
  "language_info": {
   "codemirror_mode": {
    "name": "ipython",
    "version": 3
   },
   "file_extension": ".py",
   "mimetype": "text/x-python",
   "name": "python",
   "nbconvert_exporter": "python",
   "pygments_lexer": "ipython3",
   "version": "3.8.3"
  }
 },
 "nbformat": 4,
 "nbformat_minor": 4
}
